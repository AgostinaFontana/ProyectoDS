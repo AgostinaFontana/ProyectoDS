{
 "cells": [
  {
   "cell_type": "markdown",
   "id": "b5748347",
   "metadata": {},
   "source": [
    "# DATA SCIENCE II"
   ]
  },
  {
   "cell_type": "markdown",
   "id": "fc53ae77",
   "metadata": {},
   "source": [
    "*PRIMER PRE-ENTREGA 17/10/2025 - AGOSTINA FONTANA*"
   ]
  },
  {
   "cell_type": "markdown",
   "id": "49259dd0",
   "metadata": {},
   "source": [
    "Para el trabajo de Data Science II voy a tomar como base, el Dataset utilizado en la entrega final de Data Science I, donde indagué sobre el mercado inmobiliario, tomando como dataset un reporte de Kaggle respecto a las propiedades públicadas en la página web de \"Properati\".\n",
    "\n",
    "A continuación, detallo el link de Github donde se encuentra publicado el trabajo efectuado en el curso anterior: \n",
    "https://github.com/AgostinaFontana/ProyectoDS/blob/main/ProyectoParteIII%2BFontana.ipynb "
   ]
  },
  {
   "cell_type": "markdown",
   "id": "f0af2150",
   "metadata": {},
   "source": [
    "La temática seleccionada surge a partir del interés en efectuar una comparativa de los precios de las propiedades basadas en diferentes atributos en el norte de Gran Buenos Aires.\n",
    "\n",
    "Con la apertura de la línea de crédito hipotecario en 2024, una de las hipótesis que quise probar en el trabajo del curso anterior fue comparar los valores de los alquileres vs los valores de pago de una cuota de crédito. \n",
    "\n",
    "Al tener muchos valores de alquiler en pesos argentinos tuve una limitación a mi análisis, no pudiendo comprobar o refutar la hipotesis inicialmente planteada dado que las propiedades no se encontraban en una moneda homogénea. \n",
    "\n"
   ]
  },
  {
   "cell_type": "markdown",
   "id": "65c9a320",
   "metadata": {},
   "source": [
    "Durante esta primer entrega estaremos enfocándonos en los siguientes puntos: \n",
    "1) DATA ACQUISITION: Descarga de datos de APIs Públicas.\n",
    " Estaremos indagando una API que nos permita traernos el tipo de cambio USD-ARS con el fin de poder dolarizar toda la base de propiedades tanto para operaciones de venta como de alquiler \n",
    "2) DATA WRANGLING: Limpieza de datos. Eliminación de datos duplicados y tratamiento de trabajos nulos.\n",
    "Estaremos realizando un trabajo similar al efectuado en DATA I y estaremos aplicando técnicas adicionales en caso de corresponder con la suma de datos obtenido de la API. \n",
    "3) DATA STORYTELLING: Narrativa y gráficos.\n",
    "Nos permitirán dar respuesta a preguntas / hipotésis para nuestro proyecto final "
   ]
  },
  {
   "cell_type": "code",
   "execution_count": 51,
   "id": "b6fec5f7",
   "metadata": {},
   "outputs": [],
   "source": [
    "# Importación de librerias\n",
    "\n",
    "# Para exploración y manipulación de datos\n",
    "import pandas as pd\n",
    "import numpy as np\n",
    "\n",
    "# Para generar herramientas de visualización\n",
    "import matplotlib as plt\n",
    "import seaborn as sns"
   ]
  },
  {
   "cell_type": "markdown",
   "id": "46636af2",
   "metadata": {},
   "source": [
    "## 0. IMPORTACION DEL DATASET"
   ]
  },
  {
   "cell_type": "code",
   "execution_count": 52,
   "id": "e5cac9d3",
   "metadata": {},
   "outputs": [
    {
     "name": "stdout",
     "output_type": "stream",
     "text": [
      "Warning: Looks like you're using an outdated `kagglehub` version (installed: 0.3.12), please consider upgrading to the latest version (0.3.13).\n",
      "Ruta del dataset C:\\Users\\afontan1\\.cache\\kagglehub\\datasets\\alejandroczernikier\\properati-argentina-dataset\\versions\\1\n"
     ]
    }
   ],
   "source": [
    "# Importación del dataset\n",
    "# Para acceder al dataset\n",
    "import kagglehub as kh \n",
    "# Descargo el dataset seleccionado\n",
    "path = kh.dataset_download(\"alejandroczernikier/properati-argentina-dataset\")\n",
    "# Verifico la ruta descargada\n",
    "print ('Ruta del dataset',path)"
   ]
  },
  {
   "cell_type": "code",
   "execution_count": 53,
   "id": "fad08dbd",
   "metadata": {},
   "outputs": [
    {
     "name": "stdout",
     "output_type": "stream",
     "text": [
      "Archivos CSV Encontrados ['entrenamiento.csv']\n"
     ]
    }
   ],
   "source": [
    "# Valido si dentro de la carpeta tengo archivos y si se encuentra con extensión CSV. \n",
    "# La librería \"os\" nos va a permitir interactuar con el sistema operativo y validar si el archivo existe\n",
    "import os\n",
    "Archivos_CSV= [f for f in os.listdir(path) if f.endswith('.csv')]\n",
    "print ('Archivos CSV Encontrados',Archivos_CSV)"
   ]
  },
  {
   "cell_type": "code",
   "execution_count": 54,
   "id": "33a05cb4",
   "metadata": {},
   "outputs": [],
   "source": [
    "# Defino el Data Frame leyendo el CSV que se encuentra en la ruta del data set obtenida en el paso anterior\n",
    "df= pd.read_csv('C:/Users/afontan1/.cache/kagglehub/datasets/alejandroczernikier/properati-argentina-dataset/versions/1/entrenamiento.csv')"
   ]
  },
  {
   "cell_type": "markdown",
   "id": "bb344930",
   "metadata": {},
   "source": [
    "### ANÁLISIS EXPLORATORIO DE DATOS - DATAFRAME INICIAL (EDA) "
   ]
  },
  {
   "cell_type": "code",
   "execution_count": 55,
   "id": "a3676794",
   "metadata": {},
   "outputs": [
    {
     "data": {
      "text/plain": [
       "(992192, 25)"
      ]
     },
     "execution_count": 55,
     "metadata": {},
     "output_type": "execute_result"
    }
   ],
   "source": [
    "# Para ver la cantidad de filas y columnas que tiene mi dataset: \n",
    "df.shape"
   ]
  },
  {
   "cell_type": "code",
   "execution_count": 56,
   "id": "eac22334",
   "metadata": {},
   "outputs": [
    {
     "data": {
      "text/html": [
       "<div>\n",
       "<style scoped>\n",
       "    .dataframe tbody tr th:only-of-type {\n",
       "        vertical-align: middle;\n",
       "    }\n",
       "\n",
       "    .dataframe tbody tr th {\n",
       "        vertical-align: top;\n",
       "    }\n",
       "\n",
       "    .dataframe thead th {\n",
       "        text-align: right;\n",
       "    }\n",
       "</style>\n",
       "<table border=\"1\" class=\"dataframe\">\n",
       "  <thead>\n",
       "    <tr style=\"text-align: right;\">\n",
       "      <th></th>\n",
       "      <th>id</th>\n",
       "      <th>ad_type</th>\n",
       "      <th>start_date</th>\n",
       "      <th>end_date</th>\n",
       "      <th>created_on</th>\n",
       "      <th>lat</th>\n",
       "      <th>lon</th>\n",
       "      <th>l1</th>\n",
       "      <th>l2</th>\n",
       "      <th>l3</th>\n",
       "      <th>l4</th>\n",
       "      <th>l5</th>\n",
       "      <th>l6</th>\n",
       "      <th>rooms</th>\n",
       "      <th>bedrooms</th>\n",
       "      <th>bathrooms</th>\n",
       "      <th>surface_total</th>\n",
       "      <th>surface_covered</th>\n",
       "      <th>currency</th>\n",
       "      <th>price_period</th>\n",
       "      <th>title</th>\n",
       "      <th>description</th>\n",
       "      <th>property_type</th>\n",
       "      <th>operation_type</th>\n",
       "      <th>price</th>\n",
       "    </tr>\n",
       "  </thead>\n",
       "  <tbody>\n",
       "    <tr>\n",
       "      <th>0</th>\n",
       "      <td>556713</td>\n",
       "      <td>Propiedad</td>\n",
       "      <td>2019-11-29</td>\n",
       "      <td>9999-12-31</td>\n",
       "      <td>2019-11-29</td>\n",
       "      <td>-58.442399</td>\n",
       "      <td>-34.573623</td>\n",
       "      <td>Argentina</td>\n",
       "      <td>Capital Federal</td>\n",
       "      <td>Colegiales</td>\n",
       "      <td>NaN</td>\n",
       "      <td>NaN</td>\n",
       "      <td>NaN</td>\n",
       "      <td>3.0</td>\n",
       "      <td>2.0</td>\n",
       "      <td>2.0</td>\n",
       "      <td>NaN</td>\n",
       "      <td>NaN</td>\n",
       "      <td>USD</td>\n",
       "      <td>NaN</td>\n",
       "      <td>Departamento en Venta en Belgrano, Capital fed...</td>\n",
       "      <td>Sup total por escritura: 96,47 m2 (cubiertos: ...</td>\n",
       "      <td>Departamento</td>\n",
       "      <td>Venta</td>\n",
       "      <td>259000.0</td>\n",
       "    </tr>\n",
       "    <tr>\n",
       "      <th>1</th>\n",
       "      <td>192912</td>\n",
       "      <td>Propiedad</td>\n",
       "      <td>2020-06-05</td>\n",
       "      <td>2020-06-08</td>\n",
       "      <td>2020-06-05</td>\n",
       "      <td>-58.430493</td>\n",
       "      <td>-34.606620</td>\n",
       "      <td>Argentina</td>\n",
       "      <td>Capital Federal</td>\n",
       "      <td>Almagro</td>\n",
       "      <td>NaN</td>\n",
       "      <td>NaN</td>\n",
       "      <td>NaN</td>\n",
       "      <td>3.0</td>\n",
       "      <td>2.0</td>\n",
       "      <td>2.0</td>\n",
       "      <td>77.0</td>\n",
       "      <td>67.0</td>\n",
       "      <td>USD</td>\n",
       "      <td>NaN</td>\n",
       "      <td>Departamento de 3 ambientes en Venta en Almagro</td>\n",
       "      <td>Excelente departamento de tres ambientes ampli...</td>\n",
       "      <td>Departamento</td>\n",
       "      <td>Venta</td>\n",
       "      <td>235500.0</td>\n",
       "    </tr>\n",
       "    <tr>\n",
       "      <th>2</th>\n",
       "      <td>238224</td>\n",
       "      <td>Propiedad</td>\n",
       "      <td>2020-07-01</td>\n",
       "      <td>9999-12-31</td>\n",
       "      <td>2020-07-01</td>\n",
       "      <td>-58.491760</td>\n",
       "      <td>-34.574123</td>\n",
       "      <td>Argentina</td>\n",
       "      <td>Capital Federal</td>\n",
       "      <td>Villa Urquiza</td>\n",
       "      <td>NaN</td>\n",
       "      <td>NaN</td>\n",
       "      <td>NaN</td>\n",
       "      <td>2.0</td>\n",
       "      <td>NaN</td>\n",
       "      <td>1.0</td>\n",
       "      <td>60.0</td>\n",
       "      <td>55.0</td>\n",
       "      <td>USD</td>\n",
       "      <td>NaN</td>\n",
       "      <td>Andonaegui   2600 4°  -  - Departamento en Venta</td>\n",
       "      <td>Excelente 3 ambientes al frente con balcón. Vi...</td>\n",
       "      <td>Departamento</td>\n",
       "      <td>Venta</td>\n",
       "      <td>175000.0</td>\n",
       "    </tr>\n",
       "    <tr>\n",
       "      <th>3</th>\n",
       "      <td>257134</td>\n",
       "      <td>Propiedad</td>\n",
       "      <td>2019-08-17</td>\n",
       "      <td>9999-12-31</td>\n",
       "      <td>2019-08-17</td>\n",
       "      <td>-58.420737</td>\n",
       "      <td>-34.631770</td>\n",
       "      <td>Argentina</td>\n",
       "      <td>Capital Federal</td>\n",
       "      <td>Boedo</td>\n",
       "      <td>NaN</td>\n",
       "      <td>NaN</td>\n",
       "      <td>NaN</td>\n",
       "      <td>2.0</td>\n",
       "      <td>1.0</td>\n",
       "      <td>1.0</td>\n",
       "      <td>74.0</td>\n",
       "      <td>47.0</td>\n",
       "      <td>USD</td>\n",
       "      <td>NaN</td>\n",
       "      <td>PH Venta Boedo 2 amb Patio</td>\n",
       "      <td>Corredor Responsable: MARCELO TRUJILLO -  CPI ...</td>\n",
       "      <td>PH</td>\n",
       "      <td>Venta</td>\n",
       "      <td>140000.0</td>\n",
       "    </tr>\n",
       "    <tr>\n",
       "      <th>4</th>\n",
       "      <td>521738</td>\n",
       "      <td>Propiedad</td>\n",
       "      <td>2019-08-05</td>\n",
       "      <td>2019-08-31</td>\n",
       "      <td>2019-08-05</td>\n",
       "      <td>-58.429983</td>\n",
       "      <td>-34.607225</td>\n",
       "      <td>Argentina</td>\n",
       "      <td>Capital Federal</td>\n",
       "      <td>Almagro</td>\n",
       "      <td>NaN</td>\n",
       "      <td>NaN</td>\n",
       "      <td>NaN</td>\n",
       "      <td>3.0</td>\n",
       "      <td>2.0</td>\n",
       "      <td>1.0</td>\n",
       "      <td>66.0</td>\n",
       "      <td>64.0</td>\n",
       "      <td>USD</td>\n",
       "      <td>NaN</td>\n",
       "      <td>Venta 3 Ambientes - Almagro - Balcón - Ameniti...</td>\n",
       "      <td>Corredor Responsable: Marcelo Trujillo - CUCIC...</td>\n",
       "      <td>Departamento</td>\n",
       "      <td>Venta</td>\n",
       "      <td>173000.0</td>\n",
       "    </tr>\n",
       "  </tbody>\n",
       "</table>\n",
       "</div>"
      ],
      "text/plain": [
       "       id    ad_type  start_date    end_date  created_on        lat  \\\n",
       "0  556713  Propiedad  2019-11-29  9999-12-31  2019-11-29 -58.442399   \n",
       "1  192912  Propiedad  2020-06-05  2020-06-08  2020-06-05 -58.430493   \n",
       "2  238224  Propiedad  2020-07-01  9999-12-31  2020-07-01 -58.491760   \n",
       "3  257134  Propiedad  2019-08-17  9999-12-31  2019-08-17 -58.420737   \n",
       "4  521738  Propiedad  2019-08-05  2019-08-31  2019-08-05 -58.429983   \n",
       "\n",
       "         lon         l1               l2             l3   l4   l5  l6  rooms  \\\n",
       "0 -34.573623  Argentina  Capital Federal     Colegiales  NaN  NaN NaN    3.0   \n",
       "1 -34.606620  Argentina  Capital Federal        Almagro  NaN  NaN NaN    3.0   \n",
       "2 -34.574123  Argentina  Capital Federal  Villa Urquiza  NaN  NaN NaN    2.0   \n",
       "3 -34.631770  Argentina  Capital Federal          Boedo  NaN  NaN NaN    2.0   \n",
       "4 -34.607225  Argentina  Capital Federal        Almagro  NaN  NaN NaN    3.0   \n",
       "\n",
       "   bedrooms  bathrooms  surface_total  surface_covered currency price_period  \\\n",
       "0       2.0        2.0            NaN              NaN      USD          NaN   \n",
       "1       2.0        2.0           77.0             67.0      USD          NaN   \n",
       "2       NaN        1.0           60.0             55.0      USD          NaN   \n",
       "3       1.0        1.0           74.0             47.0      USD          NaN   \n",
       "4       2.0        1.0           66.0             64.0      USD          NaN   \n",
       "\n",
       "                                               title  \\\n",
       "0  Departamento en Venta en Belgrano, Capital fed...   \n",
       "1    Departamento de 3 ambientes en Venta en Almagro   \n",
       "2   Andonaegui   2600 4°  -  - Departamento en Venta   \n",
       "3                         PH Venta Boedo 2 amb Patio   \n",
       "4  Venta 3 Ambientes - Almagro - Balcón - Ameniti...   \n",
       "\n",
       "                                         description property_type  \\\n",
       "0  Sup total por escritura: 96,47 m2 (cubiertos: ...  Departamento   \n",
       "1  Excelente departamento de tres ambientes ampli...  Departamento   \n",
       "2  Excelente 3 ambientes al frente con balcón. Vi...  Departamento   \n",
       "3  Corredor Responsable: MARCELO TRUJILLO -  CPI ...            PH   \n",
       "4  Corredor Responsable: Marcelo Trujillo - CUCIC...  Departamento   \n",
       "\n",
       "  operation_type     price  \n",
       "0          Venta  259000.0  \n",
       "1          Venta  235500.0  \n",
       "2          Venta  175000.0  \n",
       "3          Venta  140000.0  \n",
       "4          Venta  173000.0  "
      ]
     },
     "execution_count": 56,
     "metadata": {},
     "output_type": "execute_result"
    }
   ],
   "source": [
    "# Para ver las columnas y el tipo de datos que tiene mi data set\n",
    "# Indico que me traiga el 100% de las columnas:\n",
    "pd.set_option('display.max_columns',None)\n",
    "# Indico que me traiga las columnas y las primeras 5 filas de mi dataset\n",
    "df.head()"
   ]
  },
  {
   "cell_type": "code",
   "execution_count": 57,
   "id": "4e026b00",
   "metadata": {},
   "outputs": [
    {
     "data": {
      "text/html": [
       "<div>\n",
       "<style scoped>\n",
       "    .dataframe tbody tr th:only-of-type {\n",
       "        vertical-align: middle;\n",
       "    }\n",
       "\n",
       "    .dataframe tbody tr th {\n",
       "        vertical-align: top;\n",
       "    }\n",
       "\n",
       "    .dataframe thead th {\n",
       "        text-align: right;\n",
       "    }\n",
       "</style>\n",
       "<table border=\"1\" class=\"dataframe\">\n",
       "  <thead>\n",
       "    <tr style=\"text-align: right;\">\n",
       "      <th></th>\n",
       "      <th>id</th>\n",
       "      <th>lat</th>\n",
       "      <th>lon</th>\n",
       "      <th>l6</th>\n",
       "      <th>rooms</th>\n",
       "      <th>bedrooms</th>\n",
       "      <th>bathrooms</th>\n",
       "      <th>surface_total</th>\n",
       "      <th>surface_covered</th>\n",
       "      <th>price</th>\n",
       "    </tr>\n",
       "  </thead>\n",
       "  <tbody>\n",
       "    <tr>\n",
       "      <th>count</th>\n",
       "      <td>992192.000000</td>\n",
       "      <td>838994.000000</td>\n",
       "      <td>839929.000000</td>\n",
       "      <td>0.0</td>\n",
       "      <td>503045.000000</td>\n",
       "      <td>390699.000000</td>\n",
       "      <td>773021.000000</td>\n",
       "      <td>448164.00000</td>\n",
       "      <td>4.369610e+05</td>\n",
       "      <td>9.478110e+05</td>\n",
       "    </tr>\n",
       "    <tr>\n",
       "      <th>mean</th>\n",
       "      <td>500338.438758</td>\n",
       "      <td>-59.266586</td>\n",
       "      <td>-34.793745</td>\n",
       "      <td>NaN</td>\n",
       "      <td>2.858577</td>\n",
       "      <td>2.086094</td>\n",
       "      <td>1.697637</td>\n",
       "      <td>493.51136</td>\n",
       "      <td>5.769533e+02</td>\n",
       "      <td>2.881687e+05</td>\n",
       "    </tr>\n",
       "    <tr>\n",
       "      <th>std</th>\n",
       "      <td>288685.497758</td>\n",
       "      <td>2.707383</td>\n",
       "      <td>3.066257</td>\n",
       "      <td>NaN</td>\n",
       "      <td>1.682454</td>\n",
       "      <td>2.705342</td>\n",
       "      <td>1.072722</td>\n",
       "      <td>4101.38179</td>\n",
       "      <td>7.383998e+04</td>\n",
       "      <td>5.560863e+06</td>\n",
       "    </tr>\n",
       "    <tr>\n",
       "      <th>min</th>\n",
       "      <td>1.000000</td>\n",
       "      <td>-180.000000</td>\n",
       "      <td>-54.842464</td>\n",
       "      <td>NaN</td>\n",
       "      <td>1.000000</td>\n",
       "      <td>-13.000000</td>\n",
       "      <td>1.000000</td>\n",
       "      <td>-200.00000</td>\n",
       "      <td>-1.700000e+02</td>\n",
       "      <td>0.000000e+00</td>\n",
       "    </tr>\n",
       "    <tr>\n",
       "      <th>25%</th>\n",
       "      <td>250259.750000</td>\n",
       "      <td>-58.756011</td>\n",
       "      <td>-34.921709</td>\n",
       "      <td>NaN</td>\n",
       "      <td>2.000000</td>\n",
       "      <td>1.000000</td>\n",
       "      <td>1.000000</td>\n",
       "      <td>50.00000</td>\n",
       "      <td>4.500000e+01</td>\n",
       "      <td>3.900000e+04</td>\n",
       "    </tr>\n",
       "    <tr>\n",
       "      <th>50%</th>\n",
       "      <td>500641.500000</td>\n",
       "      <td>-58.444383</td>\n",
       "      <td>-34.610508</td>\n",
       "      <td>NaN</td>\n",
       "      <td>3.000000</td>\n",
       "      <td>2.000000</td>\n",
       "      <td>1.000000</td>\n",
       "      <td>95.00000</td>\n",
       "      <td>7.500000e+01</td>\n",
       "      <td>9.800000e+04</td>\n",
       "    </tr>\n",
       "    <tr>\n",
       "      <th>75%</th>\n",
       "      <td>750507.250000</td>\n",
       "      <td>-58.058983</td>\n",
       "      <td>-34.459156</td>\n",
       "      <td>NaN</td>\n",
       "      <td>4.000000</td>\n",
       "      <td>3.000000</td>\n",
       "      <td>2.000000</td>\n",
       "      <td>270.00000</td>\n",
       "      <td>1.550000e+02</td>\n",
       "      <td>2.100000e+05</td>\n",
       "    </tr>\n",
       "    <tr>\n",
       "      <th>max</th>\n",
       "      <td>1000000.000000</td>\n",
       "      <td>-35.045025</td>\n",
       "      <td>85.051129</td>\n",
       "      <td>NaN</td>\n",
       "      <td>40.000000</td>\n",
       "      <td>900.000000</td>\n",
       "      <td>20.000000</td>\n",
       "      <td>200000.00000</td>\n",
       "      <td>2.700000e+07</td>\n",
       "      <td>3.100000e+09</td>\n",
       "    </tr>\n",
       "  </tbody>\n",
       "</table>\n",
       "</div>"
      ],
      "text/plain": [
       "                   id            lat            lon   l6          rooms  \\\n",
       "count   992192.000000  838994.000000  839929.000000  0.0  503045.000000   \n",
       "mean    500338.438758     -59.266586     -34.793745  NaN       2.858577   \n",
       "std     288685.497758       2.707383       3.066257  NaN       1.682454   \n",
       "min          1.000000    -180.000000     -54.842464  NaN       1.000000   \n",
       "25%     250259.750000     -58.756011     -34.921709  NaN       2.000000   \n",
       "50%     500641.500000     -58.444383     -34.610508  NaN       3.000000   \n",
       "75%     750507.250000     -58.058983     -34.459156  NaN       4.000000   \n",
       "max    1000000.000000     -35.045025      85.051129  NaN      40.000000   \n",
       "\n",
       "            bedrooms      bathrooms  surface_total  surface_covered  \\\n",
       "count  390699.000000  773021.000000   448164.00000     4.369610e+05   \n",
       "mean        2.086094       1.697637      493.51136     5.769533e+02   \n",
       "std         2.705342       1.072722     4101.38179     7.383998e+04   \n",
       "min       -13.000000       1.000000     -200.00000    -1.700000e+02   \n",
       "25%         1.000000       1.000000       50.00000     4.500000e+01   \n",
       "50%         2.000000       1.000000       95.00000     7.500000e+01   \n",
       "75%         3.000000       2.000000      270.00000     1.550000e+02   \n",
       "max       900.000000      20.000000   200000.00000     2.700000e+07   \n",
       "\n",
       "              price  \n",
       "count  9.478110e+05  \n",
       "mean   2.881687e+05  \n",
       "std    5.560863e+06  \n",
       "min    0.000000e+00  \n",
       "25%    3.900000e+04  \n",
       "50%    9.800000e+04  \n",
       "75%    2.100000e+05  \n",
       "max    3.100000e+09  "
      ]
     },
     "execution_count": 57,
     "metadata": {},
     "output_type": "execute_result"
    }
   ],
   "source": [
    "# Utilizo la fórmula \"describe\" para poder obtener mayor información de mi dataset a través de la estadística\n",
    "df.describe() "
   ]
  },
  {
   "cell_type": "code",
   "execution_count": 58,
   "id": "e0d9d4ff",
   "metadata": {},
   "outputs": [
    {
     "name": "stdout",
     "output_type": "stream",
     "text": [
      "<class 'pandas.core.frame.DataFrame'>\n",
      "RangeIndex: 992192 entries, 0 to 992191\n",
      "Data columns (total 25 columns):\n",
      " #   Column           Non-Null Count   Dtype  \n",
      "---  ------           --------------   -----  \n",
      " 0   id               992192 non-null  int64  \n",
      " 1   ad_type          992192 non-null  object \n",
      " 2   start_date       992192 non-null  object \n",
      " 3   end_date         992192 non-null  object \n",
      " 4   created_on       992192 non-null  object \n",
      " 5   lat              838994 non-null  float64\n",
      " 6   lon              839929 non-null  float64\n",
      " 7   l1               992192 non-null  object \n",
      " 8   l2               992192 non-null  object \n",
      " 9   l3               934737 non-null  object \n",
      " 10  l4               225395 non-null  object \n",
      " 11  l5               4711 non-null    object \n",
      " 12  l6               0 non-null       float64\n",
      " 13  rooms            503045 non-null  float64\n",
      " 14  bedrooms         390699 non-null  float64\n",
      " 15  bathrooms        773021 non-null  float64\n",
      " 16  surface_total    448164 non-null  float64\n",
      " 17  surface_covered  436961 non-null  float64\n",
      " 18  currency         944941 non-null  object \n",
      " 19  price_period     369939 non-null  object \n",
      " 20  title            992164 non-null  object \n",
      " 21  description      992170 non-null  object \n",
      " 22  property_type    992192 non-null  object \n",
      " 23  operation_type   992192 non-null  object \n",
      " 24  price            947811 non-null  float64\n",
      "dtypes: float64(9), int64(1), object(15)\n",
      "memory usage: 189.2+ MB\n"
     ]
    }
   ],
   "source": [
    "# Utilizo info para poder ver el formato de los datos de cada columna y la cantidad de datos no nulos \n",
    "df.info()"
   ]
  },
  {
   "cell_type": "markdown",
   "id": "a986a6af",
   "metadata": {},
   "source": [
    "Para poder realizar el análisis de los valores de las propiedades en USD, va a ser necesario saber la fecha de publicación de la propiedad para poder tener conocimiento de la temporalidad y el TC a esa fecha o a ese mes. \n",
    "La columna que debemos tomar en cuenta es \"start_date\". En info me indica que es object por lo cual debo realizar un trabajo de tratamiento de ese dato para convertirlo a formato fecha. "
   ]
  },
  {
   "cell_type": "code",
   "execution_count": 59,
   "id": "e366261e",
   "metadata": {},
   "outputs": [],
   "source": [
    "# Modifico el formato a fecha\n",
    "df['start_date']=pd.to_datetime(df['start_date'])"
   ]
  },
  {
   "cell_type": "code",
   "execution_count": 60,
   "id": "9d1200aa",
   "metadata": {},
   "outputs": [
    {
     "name": "stdout",
     "output_type": "stream",
     "text": [
      "<class 'pandas.core.series.Series'>\n",
      "RangeIndex: 992192 entries, 0 to 992191\n",
      "Series name: start_date\n",
      "Non-Null Count   Dtype         \n",
      "--------------   -----         \n",
      "992192 non-null  datetime64[ns]\n",
      "dtypes: datetime64[ns](1)\n",
      "memory usage: 7.6 MB\n"
     ]
    }
   ],
   "source": [
    "# Verificamos que se haya modificado el type de la columna start_date \n",
    "df['start_date'].info()"
   ]
  },
  {
   "cell_type": "code",
   "execution_count": 61,
   "id": "349194ce",
   "metadata": {},
   "outputs": [],
   "source": [
    "\n",
    "# Agregar columna con el año\n",
    "df['año_publicacion'] = pd.to_datetime(df['start_date']).dt.year"
   ]
  },
  {
   "cell_type": "code",
   "execution_count": 62,
   "id": "8b75abca",
   "metadata": {},
   "outputs": [
    {
     "data": {
      "text/plain": [
       "año_publicacion\n",
       "2019    343341\n",
       "2020    648851\n",
       "dtype: int64"
      ]
     },
     "execution_count": 62,
     "metadata": {},
     "output_type": "execute_result"
    }
   ],
   "source": [
    "df.groupby('año_publicacion').size()"
   ]
  },
  {
   "cell_type": "markdown",
   "id": "1974e220",
   "metadata": {},
   "source": [
    "## 1. DATA ACQUISITION\n",
    " Descarga de datos desde API's Públicas"
   ]
  },
  {
   "cell_type": "markdown",
   "id": "fe6263f0",
   "metadata": {},
   "source": [
    "Para complementar el Dataset seleccionado en el trabajo final de Data Science I voy a explorar una API para poder obtener el tipo de cambio que me permita convertir los valores de las propiedades que se encuentran en ARS en USD y pueda tener una base homologada y comparable tanto para las operaciones de venta como para las operaciones de alquiler"
   ]
  },
  {
   "cell_type": "markdown",
   "id": "9cfb9434",
   "metadata": {},
   "source": [
    "Voy a acceder a las APIs públicas del Banco Central de la República Argentina (BCRA) "
   ]
  },
  {
   "cell_type": "code",
   "execution_count": 63,
   "id": "989e112b",
   "metadata": {},
   "outputs": [
    {
     "name": "stdout",
     "output_type": "stream",
     "text": [
      "Requirement already satisfied: pyBCRAdata in c:\\users\\afontan1\\appdata\\local\\programs\\python\\python313\\lib\\site-packages (0.4.4)\n",
      "Requirement already satisfied: pandas>=1.0.0 in c:\\users\\afontan1\\appdata\\local\\programs\\python\\python313\\lib\\site-packages (from pyBCRAdata) (2.3.0)\n",
      "Requirement already satisfied: requests>=2.25.0 in c:\\users\\afontan1\\appdata\\local\\programs\\python\\python313\\lib\\site-packages (from pyBCRAdata) (2.32.4)\n",
      "Requirement already satisfied: typing-extensions>=4.0.0 in c:\\users\\afontan1\\appdata\\local\\programs\\python\\python313\\lib\\site-packages (from pyBCRAdata) (4.14.1)\n",
      "Requirement already satisfied: pydantic>=2.0.0 in c:\\users\\afontan1\\appdata\\local\\programs\\python\\python313\\lib\\site-packages (from pyBCRAdata) (2.11.9)\n",
      "Requirement already satisfied: numpy>=1.26.0 in c:\\users\\afontan1\\appdata\\local\\programs\\python\\python313\\lib\\site-packages (from pandas>=1.0.0->pyBCRAdata) (2.3.1)\n",
      "Requirement already satisfied: python-dateutil>=2.8.2 in c:\\users\\afontan1\\appdata\\local\\programs\\python\\python313\\lib\\site-packages (from pandas>=1.0.0->pyBCRAdata) (2.9.0.post0)\n",
      "Requirement already satisfied: pytz>=2020.1 in c:\\users\\afontan1\\appdata\\local\\programs\\python\\python313\\lib\\site-packages (from pandas>=1.0.0->pyBCRAdata) (2025.2)\n",
      "Requirement already satisfied: tzdata>=2022.7 in c:\\users\\afontan1\\appdata\\local\\programs\\python\\python313\\lib\\site-packages (from pandas>=1.0.0->pyBCRAdata) (2025.2)\n",
      "Requirement already satisfied: annotated-types>=0.6.0 in c:\\users\\afontan1\\appdata\\local\\programs\\python\\python313\\lib\\site-packages (from pydantic>=2.0.0->pyBCRAdata) (0.7.0)\n",
      "Requirement already satisfied: pydantic-core==2.33.2 in c:\\users\\afontan1\\appdata\\local\\programs\\python\\python313\\lib\\site-packages (from pydantic>=2.0.0->pyBCRAdata) (2.33.2)\n",
      "Requirement already satisfied: typing-inspection>=0.4.0 in c:\\users\\afontan1\\appdata\\local\\programs\\python\\python313\\lib\\site-packages (from pydantic>=2.0.0->pyBCRAdata) (0.4.2)\n",
      "Requirement already satisfied: six>=1.5 in c:\\users\\afontan1\\appdata\\local\\programs\\python\\python313\\lib\\site-packages (from python-dateutil>=2.8.2->pandas>=1.0.0->pyBCRAdata) (1.17.0)\n",
      "Requirement already satisfied: charset_normalizer<4,>=2 in c:\\users\\afontan1\\appdata\\local\\programs\\python\\python313\\lib\\site-packages (from requests>=2.25.0->pyBCRAdata) (3.4.2)\n",
      "Requirement already satisfied: idna<4,>=2.5 in c:\\users\\afontan1\\appdata\\local\\programs\\python\\python313\\lib\\site-packages (from requests>=2.25.0->pyBCRAdata) (3.10)\n",
      "Requirement already satisfied: urllib3<3,>=1.21.1 in c:\\users\\afontan1\\appdata\\local\\programs\\python\\python313\\lib\\site-packages (from requests>=2.25.0->pyBCRAdata) (2.5.0)\n",
      "Requirement already satisfied: certifi>=2017.4.17 in c:\\users\\afontan1\\appdata\\local\\programs\\python\\python313\\lib\\site-packages (from requests>=2.25.0->pyBCRAdata) (2025.7.14)\n",
      "Note: you may need to restart the kernel to use updated packages.\n"
     ]
    },
    {
     "name": "stderr",
     "output_type": "stream",
     "text": [
      "\n",
      "[notice] A new release of pip is available: 25.1.1 -> 25.2\n",
      "[notice] To update, run: python.exe -m pip install --upgrade pip\n"
     ]
    }
   ],
   "source": [
    "pip install pyBCRAdata"
   ]
  },
  {
   "cell_type": "code",
   "execution_count": 64,
   "id": "3d5b23df",
   "metadata": {},
   "outputs": [],
   "source": [
    "from pyBCRAdata import BCRAclient\n"
   ]
  },
  {
   "cell_type": "code",
   "execution_count": 65,
   "id": "3525cd9b",
   "metadata": {},
   "outputs": [],
   "source": [
    "# Inicializar cliente\n",
    "client = BCRAclient()"
   ]
  },
  {
   "cell_type": "code",
   "execution_count": 66,
   "id": "f2b09642",
   "metadata": {},
   "outputs": [],
   "source": [
    "# Obtener cotización histórica del dólar (Traigo cotización 2019 y 2020 tomando como base el año obtenido anteriormente de año_publicación)\n",
    "usd = client.currency.series(\n",
    "    moneda=\"USD\",\n",
    "    fechadesde=\"2019-01-01\",\n",
    "    fechahasta=\"2020-12-31\"\n",
    ")\n"
   ]
  },
  {
   "cell_type": "code",
   "execution_count": 67,
   "id": "55ddd310",
   "metadata": {},
   "outputs": [
    {
     "data": {
      "text/html": [
       "<div>\n",
       "<style scoped>\n",
       "    .dataframe tbody tr th:only-of-type {\n",
       "        vertical-align: middle;\n",
       "    }\n",
       "\n",
       "    .dataframe tbody tr th {\n",
       "        vertical-align: top;\n",
       "    }\n",
       "\n",
       "    .dataframe thead th {\n",
       "        text-align: right;\n",
       "    }\n",
       "</style>\n",
       "<table border=\"1\" class=\"dataframe\">\n",
       "  <thead>\n",
       "    <tr style=\"text-align: right;\">\n",
       "      <th></th>\n",
       "      <th>fecha</th>\n",
       "      <th>detalle_codigoMoneda</th>\n",
       "      <th>detalle_descripcion</th>\n",
       "      <th>detalle_tipoPase</th>\n",
       "      <th>detalle_tipoCotizacion</th>\n",
       "    </tr>\n",
       "  </thead>\n",
       "  <tbody>\n",
       "    <tr>\n",
       "      <th>0</th>\n",
       "      <td>2020-12-31</td>\n",
       "      <td>USD</td>\n",
       "      <td>DOLAR E.E.U.U.</td>\n",
       "      <td>0.0</td>\n",
       "      <td>84.15</td>\n",
       "    </tr>\n",
       "    <tr>\n",
       "      <th>1</th>\n",
       "      <td>2020-12-30</td>\n",
       "      <td>USD</td>\n",
       "      <td>DOLAR E.E.U.U.</td>\n",
       "      <td>0.0</td>\n",
       "      <td>84.15</td>\n",
       "    </tr>\n",
       "    <tr>\n",
       "      <th>2</th>\n",
       "      <td>2020-12-29</td>\n",
       "      <td>USD</td>\n",
       "      <td>DOLAR E.E.U.U.</td>\n",
       "      <td>0.0</td>\n",
       "      <td>84.02</td>\n",
       "    </tr>\n",
       "    <tr>\n",
       "      <th>3</th>\n",
       "      <td>2020-12-28</td>\n",
       "      <td>USD</td>\n",
       "      <td>DOLAR E.E.U.U.</td>\n",
       "      <td>0.0</td>\n",
       "      <td>83.90</td>\n",
       "    </tr>\n",
       "    <tr>\n",
       "      <th>4</th>\n",
       "      <td>2020-12-23</td>\n",
       "      <td>USD</td>\n",
       "      <td>DOLAR E.E.U.U.</td>\n",
       "      <td>0.0</td>\n",
       "      <td>83.36</td>\n",
       "    </tr>\n",
       "  </tbody>\n",
       "</table>\n",
       "</div>"
      ],
      "text/plain": [
       "       fecha detalle_codigoMoneda detalle_descripcion  detalle_tipoPase  \\\n",
       "0 2020-12-31                  USD      DOLAR E.E.U.U.               0.0   \n",
       "1 2020-12-30                  USD      DOLAR E.E.U.U.               0.0   \n",
       "2 2020-12-29                  USD      DOLAR E.E.U.U.               0.0   \n",
       "3 2020-12-28                  USD      DOLAR E.E.U.U.               0.0   \n",
       "4 2020-12-23                  USD      DOLAR E.E.U.U.               0.0   \n",
       "\n",
       "   detalle_tipoCotizacion  \n",
       "0                   84.15  \n",
       "1                   84.15  \n",
       "2                   84.02  \n",
       "3                   83.90  \n",
       "4                   83.36  "
      ]
     },
     "execution_count": 67,
     "metadata": {},
     "output_type": "execute_result"
    }
   ],
   "source": [
    "usd.head()"
   ]
  },
  {
   "cell_type": "code",
   "execution_count": 68,
   "id": "a08b6fae",
   "metadata": {},
   "outputs": [],
   "source": [
    "usd['fecha']=pd.to_datetime(usd['fecha'])"
   ]
  },
  {
   "cell_type": "code",
   "execution_count": 69,
   "id": "9603673d",
   "metadata": {},
   "outputs": [],
   "source": [
    "# Extraer mes y año\n",
    "df['mes'] = df['start_date'].dt.month\n",
    "df['año'] = df['start_date'].dt.year\n",
    "\n",
    "usd['mes'] = usd['fecha'].dt.month\n",
    "usd['año'] = usd['fecha'].dt.year\n"
   ]
  },
  {
   "cell_type": "code",
   "execution_count": 70,
   "id": "5f897b71",
   "metadata": {},
   "outputs": [],
   "source": [
    "#Concateno el mes y el año en el dataframe df y en el de usd\n",
    "df['mes&año'] = df['mes'].astype(str) + '&' + df['año'].astype(str)\n",
    "\n",
    "usd['mes&año'] = usd['mes'].astype(str) + '&' + usd['año'].astype(str)"
   ]
  },
  {
   "cell_type": "code",
   "execution_count": 71,
   "id": "59f4a55e",
   "metadata": {},
   "outputs": [],
   "source": [
    "#Agrupo por mes&año y calculo el promedio mensual\n",
    "\n",
    "usd_mensual=usd.groupby('mes&año')['detalle_tipoCotizacion'].mean().reset_index()\n"
   ]
  },
  {
   "cell_type": "code",
   "execution_count": 72,
   "id": "2291d9db",
   "metadata": {},
   "outputs": [],
   "source": [
    "#Renombro la columna de cotización\n",
    "\n",
    "usd_mensual.rename(columns={'detalle_tipoCotizacion':'Cotizacion_Promedio_Mensual'},inplace=True)"
   ]
  },
  {
   "cell_type": "code",
   "execution_count": 73,
   "id": "3badb727",
   "metadata": {},
   "outputs": [],
   "source": [
    "#Merge entre df y usd_mensual usando la columna 'mes&año' como nexo\n",
    "df_api=pd.merge(df,usd_mensual,on='mes&año',how='left')"
   ]
  },
  {
   "cell_type": "code",
   "execution_count": 74,
   "id": "c0f412e9",
   "metadata": {},
   "outputs": [
    {
     "data": {
      "text/plain": [
       "(992192, 30)"
      ]
     },
     "execution_count": 74,
     "metadata": {},
     "output_type": "execute_result"
    }
   ],
   "source": [
    "df_api.shape"
   ]
  },
  {
   "cell_type": "markdown",
   "id": "c9369e55",
   "metadata": {},
   "source": [
    "## 2. DATA WRANGLING\n",
    "Como en el trabajo realizado en Data Science I nos concentramos en las propiedades con operaciones de venta del norte de Gran Buenos Aires, no pudiendo efectuar el análisis de las propiedades en alquiler por encontrarse en ARS, nos estaremos concentrando en el trabajo de Data II en analizar los valores de las propiedades en alquiler para luego poder unir los dos análisis efectuados y poder realizar una correcta comparación\n"
   ]
  },
  {
   "cell_type": "markdown",
   "id": "433a03b5",
   "metadata": {},
   "source": [
    "### MANIPULACIÓN DE DATOS\n",
    "\n",
    "A) SELECCIÓN / ELIMINACIÓN DE COLUMNAS: Analizaremos los datos que contienen las columnas del dataset y nos quedaremos con aquellas que nos generan valor agregado para el análisis que queremos efectuar. \n",
    "\n",
    "B) SELECCIÓN / ELIMINACIÓN DE FILAS: No tendremos en cuenta todas las propiedades del Dataset. Realizaremos un filtro de filas en base a: \n",
    "    \n",
    "- Ubicación geográfica de acuerdo a la zona de interés.\n",
    "- Tipo de propiedad\n",
    "- Tipo de Operación\n",
    "\n",
    "C) TRATAMIENTO DE DATOS NULOS: Identificaremos aquellas columnas con filas sin datos y analizaremos la estrategia optima para cada caso (eliminación de fila, eliminación de columna, imputación de valor de acuerdo a la moda, mediana o modo, etc.)"
   ]
  },
  {
   "cell_type": "markdown",
   "id": "1c9f758b",
   "metadata": {},
   "source": [
    "#### A) SELECCIÓN / ELIMINACIÓN DE COLUMNAS"
   ]
  },
  {
   "cell_type": "code",
   "execution_count": 75,
   "id": "0c1ae5c8",
   "metadata": {},
   "outputs": [
    {
     "data": {
      "text/html": [
       "<div>\n",
       "<style scoped>\n",
       "    .dataframe tbody tr th:only-of-type {\n",
       "        vertical-align: middle;\n",
       "    }\n",
       "\n",
       "    .dataframe tbody tr th {\n",
       "        vertical-align: top;\n",
       "    }\n",
       "\n",
       "    .dataframe thead th {\n",
       "        text-align: right;\n",
       "    }\n",
       "</style>\n",
       "<table border=\"1\" class=\"dataframe\">\n",
       "  <thead>\n",
       "    <tr style=\"text-align: right;\">\n",
       "      <th></th>\n",
       "      <th>id</th>\n",
       "      <th>ad_type</th>\n",
       "      <th>start_date</th>\n",
       "      <th>end_date</th>\n",
       "      <th>created_on</th>\n",
       "      <th>lat</th>\n",
       "      <th>lon</th>\n",
       "      <th>l1</th>\n",
       "      <th>l2</th>\n",
       "      <th>l3</th>\n",
       "      <th>l4</th>\n",
       "      <th>l5</th>\n",
       "      <th>l6</th>\n",
       "      <th>rooms</th>\n",
       "      <th>bedrooms</th>\n",
       "      <th>bathrooms</th>\n",
       "      <th>surface_total</th>\n",
       "      <th>surface_covered</th>\n",
       "      <th>currency</th>\n",
       "      <th>price_period</th>\n",
       "      <th>title</th>\n",
       "      <th>description</th>\n",
       "      <th>property_type</th>\n",
       "      <th>operation_type</th>\n",
       "      <th>price</th>\n",
       "      <th>año_publicacion</th>\n",
       "      <th>mes</th>\n",
       "      <th>año</th>\n",
       "      <th>mes&amp;año</th>\n",
       "      <th>Cotizacion_Promedio_Mensual</th>\n",
       "    </tr>\n",
       "  </thead>\n",
       "  <tbody>\n",
       "    <tr>\n",
       "      <th>0</th>\n",
       "      <td>556713</td>\n",
       "      <td>Propiedad</td>\n",
       "      <td>2019-11-29</td>\n",
       "      <td>9999-12-31</td>\n",
       "      <td>2019-11-29</td>\n",
       "      <td>-58.442399</td>\n",
       "      <td>-34.573623</td>\n",
       "      <td>Argentina</td>\n",
       "      <td>Capital Federal</td>\n",
       "      <td>Colegiales</td>\n",
       "      <td>NaN</td>\n",
       "      <td>NaN</td>\n",
       "      <td>NaN</td>\n",
       "      <td>3.0</td>\n",
       "      <td>2.0</td>\n",
       "      <td>2.0</td>\n",
       "      <td>NaN</td>\n",
       "      <td>NaN</td>\n",
       "      <td>USD</td>\n",
       "      <td>NaN</td>\n",
       "      <td>Departamento en Venta en Belgrano, Capital fed...</td>\n",
       "      <td>Sup total por escritura: 96,47 m2 (cubiertos: ...</td>\n",
       "      <td>Departamento</td>\n",
       "      <td>Venta</td>\n",
       "      <td>259000.0</td>\n",
       "      <td>2019</td>\n",
       "      <td>11</td>\n",
       "      <td>2019</td>\n",
       "      <td>11&amp;2019</td>\n",
       "      <td>59.745263</td>\n",
       "    </tr>\n",
       "  </tbody>\n",
       "</table>\n",
       "</div>"
      ],
      "text/plain": [
       "       id    ad_type start_date    end_date  created_on        lat        lon  \\\n",
       "0  556713  Propiedad 2019-11-29  9999-12-31  2019-11-29 -58.442399 -34.573623   \n",
       "\n",
       "          l1               l2          l3   l4   l5  l6  rooms  bedrooms  \\\n",
       "0  Argentina  Capital Federal  Colegiales  NaN  NaN NaN    3.0       2.0   \n",
       "\n",
       "   bathrooms  surface_total  surface_covered currency price_period  \\\n",
       "0        2.0            NaN              NaN      USD          NaN   \n",
       "\n",
       "                                               title  \\\n",
       "0  Departamento en Venta en Belgrano, Capital fed...   \n",
       "\n",
       "                                         description property_type  \\\n",
       "0  Sup total por escritura: 96,47 m2 (cubiertos: ...  Departamento   \n",
       "\n",
       "  operation_type     price  año_publicacion  mes   año  mes&año  \\\n",
       "0          Venta  259000.0             2019   11  2019  11&2019   \n",
       "\n",
       "   Cotizacion_Promedio_Mensual  \n",
       "0                    59.745263  "
      ]
     },
     "execution_count": 75,
     "metadata": {},
     "output_type": "execute_result"
    }
   ],
   "source": [
    "# Volvemos a realizar un análisis exploratorio del dataframe\n",
    "\n",
    "df_api.head(1)"
   ]
  },
  {
   "cell_type": "markdown",
   "id": "1b3f91a3",
   "metadata": {},
   "source": [
    "Voy a eliminar columnas que no me generan valor para mi análisis como:\n",
    "-  ad_type: En todas las líneas indica \"Propiedad\". No genera valor agregado a mi análisis.\n",
    "-  Title y Description: Si bien, nos puede brindar información de la propiedad específica, al ser campos de texto libre es dificultoso normalizar y encontrar un patrón o tendencia en dichos datos.\n",
    "- Datos de geolocalización: l5 y l6. Si bien me brinda mayor capilaridad de información respecto a la geolocalización de la propiedad, no todas las propiedades cuentan con ese nivel de detalle.\n",
    "- Datos de fecha de la publicación: Nos vamos a quedar solo con el dato de start_date, eliminando los campos end_date o created_on. Si bien son datos que nos van a permitir hasta que fecha estuvo publicada la propiedad, no es relevante para el análisis que queremos efectuar que no consiste en encontrar una propiedad determinada sino realizar una comparativa de precios de propiedades de acuerdo a determinados atributos."
   ]
  },
  {
   "cell_type": "code",
   "execution_count": 76,
   "id": "2e9edae0",
   "metadata": {},
   "outputs": [],
   "source": [
    "df_analisis=df_api.drop(['ad_type','l6','l5','title','description','created_on', 'end_date'],axis=1)"
   ]
  },
  {
   "cell_type": "code",
   "execution_count": 77,
   "id": "bba545bd",
   "metadata": {},
   "outputs": [
    {
     "data": {
      "text/plain": [
       "(992192, 23)"
      ]
     },
     "execution_count": 77,
     "metadata": {},
     "output_type": "execute_result"
    }
   ],
   "source": [
    "# Verificamos que se hayan mantenido la cantidad de filas y se hayan reducido las columnas de 30 a 23 (eliminamos 7)\n",
    "df_analisis.shape"
   ]
  },
  {
   "cell_type": "markdown",
   "id": "527c548f",
   "metadata": {},
   "source": [
    "#### B) SELECCION / ELIMINACIÓN DE FILAS"
   ]
  },
  {
   "cell_type": "markdown",
   "id": "96943d39",
   "metadata": {},
   "source": [
    "Para nuestro análisis vamos a realizar un filtro de las siguientes propiedades: \n",
    "* B.1: operation_type = 'Alquiler'\n",
    "* B.2: property_type = 'Casa'\n",
    "* B.3: l2 = 'Bs.As. G.B.A. Zona Norte'"
   ]
  },
  {
   "cell_type": "code",
   "execution_count": 78,
   "id": "4481e038",
   "metadata": {},
   "outputs": [],
   "source": [
    "# Indico los filtros que quiero realizar\n",
    "df_filtros= (df_analisis['l2']=='Bs.As. G.B.A. Zona Norte') & (df_analisis['operation_type']=='Alquiler') & (df_analisis['property_type']=='Casa')"
   ]
  },
  {
   "cell_type": "code",
   "execution_count": 79,
   "id": "c12fb51c",
   "metadata": {},
   "outputs": [
    {
     "data": {
      "text/plain": [
       "(10166, 23)"
      ]
     },
     "execution_count": 79,
     "metadata": {},
     "output_type": "execute_result"
    }
   ],
   "source": [
    "#Aplico los filtros al df df_analisis para generar el nuevo data frame de casas en alquiler en GBA Zona Norte\n",
    "df_filtrado = df_analisis[df_filtros]\n",
    "df_filtrado.shape"
   ]
  },
  {
   "cell_type": "markdown",
   "id": "cae78dbf",
   "metadata": {},
   "source": [
    "Vamos a analizar la cantidad de registros nulos por cada uno de los atributos del dataframe y en base a ello, analizaremos que estrategia utilizaremos para cada caso"
   ]
  },
  {
   "cell_type": "code",
   "execution_count": 80,
   "id": "5d7b0123",
   "metadata": {},
   "outputs": [
    {
     "data": {
      "text/plain": [
       "id                                0\n",
       "start_date                        0\n",
       "lat                            3082\n",
       "lon                            3076\n",
       "l1                                0\n",
       "l2                                0\n",
       "l3                              206\n",
       "l4                             3193\n",
       "rooms                          5921\n",
       "bedrooms                       2932\n",
       "bathrooms                       509\n",
       "surface_total                  1969\n",
       "surface_covered                1052\n",
       "currency                        285\n",
       "price_period                   5779\n",
       "property_type                     0\n",
       "operation_type                    0\n",
       "price                           269\n",
       "año_publicacion                   0\n",
       "mes                               0\n",
       "año                               0\n",
       "mes&año                           0\n",
       "Cotizacion_Promedio_Mensual       0\n",
       "dtype: int64"
      ]
     },
     "execution_count": 80,
     "metadata": {},
     "output_type": "execute_result"
    }
   ],
   "source": [
    "# Los detectamos utilizando \"isnull\" sobre el dataframe y utilizamos la suma para que nos cuente los que son nulos (true=1)\n",
    "df_filtrado.isnull().sum()"
   ]
  },
  {
   "cell_type": "markdown",
   "id": "052693df",
   "metadata": {},
   "source": [
    "#### C) TRATAMIENTO DE DATOS NULOS"
   ]
  },
  {
   "cell_type": "markdown",
   "id": "1ebaf0e8",
   "metadata": {},
   "source": [
    "De las 23 columnas, 12 atributos contienen datos nulos en las 10166 propiedades en alquiler de nuestro dataset. \n",
    "\n",
    "El tratamiento que realizaremos va a diferir de la cantidad de datos nulos y la naturaleza del dato y la importancia para nuestro análisis. \n",
    "\n",
    "A continuación detallamos la estrategia para cada caso: \n",
    "* C.1) Relleno el dato con un valor constante:\n",
    "    - Lat, Long, l3 y l4: Me brindan información de la georeferencia de la propiedad.\n",
    "    En caso que no tengan este dato coloco \"\"\n",
    "* C.2) Elimino columnas de datos con baja relevancia para mi análisis\n",
    "    - Price_period: Me quedo con el valor de start_date para trabajar con la temporalidad de la publicación y el valor a esa fecha.\n",
    "    - Rooms: Al no contar con este dato en casi la mitad del dataset lo vamos a eliminar para todos los registros.\n",
    "\n",
    "* C.3) Elimino filas que contienen valores nulos: \n",
    "    - Surface_Total, Surface_Covered y Price: Son datos fundamentales que me van a permitir analizar el valor por m2 de la propiedad. Analizar propiedades sin esos datos no me va a permitir realizar una comparativa adecuada.\n",
    "    - Currency: Que me indiquen en que moneda se encuentran las propiedades es fundamental para saber si debo aplicarle el tipo de cambio obtenido con la API o no.\n",
    "\n",
    "* C.4) Imputo los valores nulos con la media (medida de tendencia central):\n",
    "    - Bathroom, bedrooms: Voy a imputar el valor medio de los datos, pero lo voy a imputar de acuerdo a la media de propiedades con dimensiones similares (metros cuadrados cubiertos)"
   ]
  },
  {
   "cell_type": "code",
   "execution_count": 86,
   "id": "4cc550e4",
   "metadata": {},
   "outputs": [
    {
     "name": "stderr",
     "output_type": "stream",
     "text": [
      "C:\\Users\\afontan1\\AppData\\Local\\Temp\\ipykernel_11296\\133297313.py:2: SettingWithCopyWarning: \n",
      "A value is trying to be set on a copy of a slice from a DataFrame.\n",
      "Try using .loc[row_indexer,col_indexer] = value instead\n",
      "\n",
      "See the caveats in the documentation: https://pandas.pydata.org/pandas-docs/stable/user_guide/indexing.html#returning-a-view-versus-a-copy\n",
      "  df_filtrado[['lat','lon','l3','l4']]= df_filtrado[['lat','lon','l3','l4']].fillna(0)\n"
     ]
    }
   ],
   "source": [
    "#C.1 - Relleno el dato con un valor constante \n",
    "df_filtrado[['lat','lon','l3','l4']]= df_filtrado[['lat','lon','l3','l4']].fillna(0)"
   ]
  },
  {
   "cell_type": "markdown",
   "id": "66e71000",
   "metadata": {},
   "source": [
    "Voy a renombrar el DF debido a que los próximos pasos consisten en eliminar filas o columnas y no quiero afectar el df_analisis en caso de necesitar recuperarlo"
   ]
  },
  {
   "cell_type": "code",
   "execution_count": 82,
   "id": "dc259960",
   "metadata": {},
   "outputs": [],
   "source": [
    "columnas_eliminar= ['price_period', 'rooms']"
   ]
  },
  {
   "cell_type": "code",
   "execution_count": 87,
   "id": "76af28c5",
   "metadata": {},
   "outputs": [],
   "source": [
    "# C.2 Elimino columnas del df_analisis generando un nuevo df\n",
    "\n",
    "df_filtrado_vf= df_filtrado.drop(columns=columnas_eliminar)"
   ]
  },
  {
   "cell_type": "code",
   "execution_count": 88,
   "id": "a9a3bd7d",
   "metadata": {},
   "outputs": [
    {
     "data": {
      "text/plain": [
       "(10166, 21)"
      ]
     },
     "execution_count": 88,
     "metadata": {},
     "output_type": "execute_result"
    }
   ],
   "source": [
    "#Valido si se eliminaron las columnas (23 a 21)\n",
    "\n",
    "df_filtrado_vf.shape"
   ]
  },
  {
   "cell_type": "code",
   "execution_count": 90,
   "id": "0d44af94",
   "metadata": {},
   "outputs": [],
   "source": [
    "# C.3 Elimino filas donde los valores sean igual a 0\n",
    "df_filtrado_vf=df_filtrado_vf.dropna(subset=['surface_total','surface_covered','price','currency'])"
   ]
  },
  {
   "cell_type": "code",
   "execution_count": 93,
   "id": "f4698cd6",
   "metadata": {},
   "outputs": [
    {
     "data": {
      "text/plain": [
       "id                                0\n",
       "start_date                        0\n",
       "lat                               0\n",
       "lon                               0\n",
       "l1                                0\n",
       "l2                                0\n",
       "l3                                0\n",
       "l4                                0\n",
       "bedrooms                       1880\n",
       "bathrooms                       233\n",
       "surface_total                     0\n",
       "surface_covered                   0\n",
       "currency                          0\n",
       "property_type                     0\n",
       "operation_type                    0\n",
       "price                             0\n",
       "año_publicacion                   0\n",
       "mes                               0\n",
       "año                               0\n",
       "mes&año                           0\n",
       "Cotizacion_Promedio_Mensual       0\n",
       "dtype: int64"
      ]
     },
     "execution_count": 93,
     "metadata": {},
     "output_type": "execute_result"
    }
   ],
   "source": [
    "# Valido si se eliminaron las filas a través de shape (debe reducirse los 10166 propiedades) y valido que no hayan quedado nulos en esos 4 atributos\n",
    "df_filtrado_vf.isnull().sum()\n"
   ]
  },
  {
   "cell_type": "code",
   "execution_count": 94,
   "id": "0a1cfcd8",
   "metadata": {},
   "outputs": [
    {
     "data": {
      "text/plain": [
       "(7709, 21)"
      ]
     },
     "execution_count": 94,
     "metadata": {},
     "output_type": "execute_result"
    }
   ],
   "source": [
    "df_filtrado_vf.shape"
   ]
  },
  {
   "cell_type": "markdown",
   "id": "7d21c796",
   "metadata": {},
   "source": [
    "#C.4 Imputo el valor medio a bedrooms y bathrooms\n",
    "\n",
    "El tratamiento de los nulos de los valores que reemplazo por la media quiero que consideren la media de propiedades con superficies similares, por lo cual realizaremos lo siguiente:\n",
    "* Definimos intervalos de superficie cubierta (cada 50 m2)\n",
    "* Asignamos a cada una de las propiedades un intervalo de acuerdo a su superficie cubierta \n",
    "* Calculamos la media de cada columna con nulos dentro del grupo de análisis.\n",
    "* Imputamos los valores nulos usando la media calculada en el paso anterior"
   ]
  },
  {
   "cell_type": "code",
   "execution_count": 95,
   "id": "4bc7e9ed",
   "metadata": {},
   "outputs": [],
   "source": [
    "# 4) Defino intervalos\n",
    "df_filtrado_vf['surface_covered_intervalo']= (df_filtrado_vf ['surface_covered']// 50) * 50"
   ]
  },
  {
   "cell_type": "code",
   "execution_count": 97,
   "id": "9d6e100b",
   "metadata": {},
   "outputs": [],
   "source": [
    "# Defino las columnas que voy a imputar los valores nulos con la media\n",
    "columnas_imputar_media= ['bedrooms','bathrooms']\n",
    "\n",
    "# Imputo valores nulos con la media del grupo correspondiente de acuerdo a los m2 de la propiedad.\n",
    "for col in columnas_imputar_media:\n",
    "    df_filtrado_vf[col] = df_filtrado_vf.groupby('surface_covered_intervalo')[col].transform(\n",
    "        lambda x: x.fillna(x.mean())\n",
    "    )"
   ]
  },
  {
   "cell_type": "code",
   "execution_count": 98,
   "id": "759e141c",
   "metadata": {},
   "outputs": [
    {
     "data": {
      "text/plain": [
       "id                             0\n",
       "start_date                     0\n",
       "lat                            0\n",
       "lon                            0\n",
       "l1                             0\n",
       "l2                             0\n",
       "l3                             0\n",
       "l4                             0\n",
       "bedrooms                       2\n",
       "bathrooms                      1\n",
       "surface_total                  0\n",
       "surface_covered                0\n",
       "currency                       0\n",
       "property_type                  0\n",
       "operation_type                 0\n",
       "price                          0\n",
       "año_publicacion                0\n",
       "mes                            0\n",
       "año                            0\n",
       "mes&año                        0\n",
       "Cotizacion_Promedio_Mensual    0\n",
       "surface_covered_intervalo      0\n",
       "dtype: int64"
      ]
     },
     "execution_count": 98,
     "metadata": {},
     "output_type": "execute_result"
    }
   ],
   "source": [
    "#Verifico que no haya nulos en ninguna columna\n",
    "\n",
    "df_filtrado_vf.isnull().sum()"
   ]
  },
  {
   "cell_type": "code",
   "execution_count": 99,
   "id": "9de87d70",
   "metadata": {},
   "outputs": [
    {
     "data": {
      "text/html": [
       "<div>\n",
       "<style scoped>\n",
       "    .dataframe tbody tr th:only-of-type {\n",
       "        vertical-align: middle;\n",
       "    }\n",
       "\n",
       "    .dataframe tbody tr th {\n",
       "        vertical-align: top;\n",
       "    }\n",
       "\n",
       "    .dataframe thead th {\n",
       "        text-align: right;\n",
       "    }\n",
       "</style>\n",
       "<table border=\"1\" class=\"dataframe\">\n",
       "  <thead>\n",
       "    <tr style=\"text-align: right;\">\n",
       "      <th></th>\n",
       "      <th>id</th>\n",
       "      <th>start_date</th>\n",
       "      <th>lat</th>\n",
       "      <th>lon</th>\n",
       "      <th>bedrooms</th>\n",
       "      <th>bathrooms</th>\n",
       "      <th>surface_total</th>\n",
       "      <th>surface_covered</th>\n",
       "      <th>price</th>\n",
       "      <th>año_publicacion</th>\n",
       "      <th>mes</th>\n",
       "      <th>año</th>\n",
       "      <th>Cotizacion_Promedio_Mensual</th>\n",
       "      <th>surface_covered_intervalo</th>\n",
       "    </tr>\n",
       "  </thead>\n",
       "  <tbody>\n",
       "    <tr>\n",
       "      <th>count</th>\n",
       "      <td>7709.000000</td>\n",
       "      <td>7709</td>\n",
       "      <td>7709.000000</td>\n",
       "      <td>7709.000000</td>\n",
       "      <td>7707.000000</td>\n",
       "      <td>7708.000000</td>\n",
       "      <td>7709.000000</td>\n",
       "      <td>7709.00000</td>\n",
       "      <td>7709.000000</td>\n",
       "      <td>7709.000000</td>\n",
       "      <td>7709.000000</td>\n",
       "      <td>7709.000000</td>\n",
       "      <td>7709.000000</td>\n",
       "      <td>7709.000000</td>\n",
       "    </tr>\n",
       "    <tr>\n",
       "      <th>mean</th>\n",
       "      <td>438893.371384</td>\n",
       "      <td>2019-12-26 04:14:47.274614016</td>\n",
       "      <td>-39.910210</td>\n",
       "      <td>-23.422168</td>\n",
       "      <td>3.348575</td>\n",
       "      <td>3.077263</td>\n",
       "      <td>544.688805</td>\n",
       "      <td>278.93073</td>\n",
       "      <td>48104.859385</td>\n",
       "      <td>2019.447269</td>\n",
       "      <td>6.994163</td>\n",
       "      <td>2019.447269</td>\n",
       "      <td>59.801939</td>\n",
       "      <td>259.534311</td>\n",
       "    </tr>\n",
       "    <tr>\n",
       "      <th>min</th>\n",
       "      <td>271.000000</td>\n",
       "      <td>2019-07-04 00:00:00</td>\n",
       "      <td>-59.030171</td>\n",
       "      <td>-34.592448</td>\n",
       "      <td>1.000000</td>\n",
       "      <td>1.000000</td>\n",
       "      <td>20.000000</td>\n",
       "      <td>1.00000</td>\n",
       "      <td>100.000000</td>\n",
       "      <td>2019.000000</td>\n",
       "      <td>1.000000</td>\n",
       "      <td>2019.000000</td>\n",
       "      <td>42.580000</td>\n",
       "      <td>0.000000</td>\n",
       "    </tr>\n",
       "    <tr>\n",
       "      <th>25%</th>\n",
       "      <td>178919.000000</td>\n",
       "      <td>2019-09-12 00:00:00</td>\n",
       "      <td>-58.700615</td>\n",
       "      <td>-34.446869</td>\n",
       "      <td>3.000000</td>\n",
       "      <td>2.000000</td>\n",
       "      <td>200.000000</td>\n",
       "      <td>160.00000</td>\n",
       "      <td>9800.000000</td>\n",
       "      <td>2019.000000</td>\n",
       "      <td>5.000000</td>\n",
       "      <td>2019.000000</td>\n",
       "      <td>56.463333</td>\n",
       "      <td>150.000000</td>\n",
       "    </tr>\n",
       "    <tr>\n",
       "      <th>50%</th>\n",
       "      <td>423306.000000</td>\n",
       "      <td>2019-12-07 00:00:00</td>\n",
       "      <td>-58.614400</td>\n",
       "      <td>-34.403817</td>\n",
       "      <td>3.000000</td>\n",
       "      <td>3.000000</td>\n",
       "      <td>350.000000</td>\n",
       "      <td>220.00000</td>\n",
       "      <td>37000.000000</td>\n",
       "      <td>2019.000000</td>\n",
       "      <td>7.000000</td>\n",
       "      <td>2019.000000</td>\n",
       "      <td>59.875550</td>\n",
       "      <td>200.000000</td>\n",
       "    </tr>\n",
       "    <tr>\n",
       "      <th>75%</th>\n",
       "      <td>656591.000000</td>\n",
       "      <td>2020-04-18 00:00:00</td>\n",
       "      <td>0.000000</td>\n",
       "      <td>0.000000</td>\n",
       "      <td>4.000000</td>\n",
       "      <td>4.000000</td>\n",
       "      <td>758.000000</td>\n",
       "      <td>309.00000</td>\n",
       "      <td>65000.000000</td>\n",
       "      <td>2020.000000</td>\n",
       "      <td>10.000000</td>\n",
       "      <td>2020.000000</td>\n",
       "      <td>65.763850</td>\n",
       "      <td>300.000000</td>\n",
       "    </tr>\n",
       "    <tr>\n",
       "      <th>max</th>\n",
       "      <td>999978.000000</td>\n",
       "      <td>2020-07-27 00:00:00</td>\n",
       "      <td>0.000000</td>\n",
       "      <td>0.000000</td>\n",
       "      <td>36.000000</td>\n",
       "      <td>10.000000</td>\n",
       "      <td>169000.000000</td>\n",
       "      <td>169000.00000</td>\n",
       "      <td>650000.000000</td>\n",
       "      <td>2020.000000</td>\n",
       "      <td>12.000000</td>\n",
       "      <td>2020.000000</td>\n",
       "      <td>71.479524</td>\n",
       "      <td>169000.000000</td>\n",
       "    </tr>\n",
       "    <tr>\n",
       "      <th>std</th>\n",
       "      <td>289028.563583</td>\n",
       "      <td>NaN</td>\n",
       "      <td>27.372948</td>\n",
       "      <td>16.064363</td>\n",
       "      <td>0.912996</td>\n",
       "      <td>1.310170</td>\n",
       "      <td>2105.452666</td>\n",
       "      <td>2004.74938</td>\n",
       "      <td>51524.656790</td>\n",
       "      <td>0.497244</td>\n",
       "      <td>3.144850</td>\n",
       "      <td>0.497244</td>\n",
       "      <td>7.325064</td>\n",
       "      <td>2005.232330</td>\n",
       "    </tr>\n",
       "  </tbody>\n",
       "</table>\n",
       "</div>"
      ],
      "text/plain": [
       "                  id                     start_date          lat          lon  \\\n",
       "count    7709.000000                           7709  7709.000000  7709.000000   \n",
       "mean   438893.371384  2019-12-26 04:14:47.274614016   -39.910210   -23.422168   \n",
       "min       271.000000            2019-07-04 00:00:00   -59.030171   -34.592448   \n",
       "25%    178919.000000            2019-09-12 00:00:00   -58.700615   -34.446869   \n",
       "50%    423306.000000            2019-12-07 00:00:00   -58.614400   -34.403817   \n",
       "75%    656591.000000            2020-04-18 00:00:00     0.000000     0.000000   \n",
       "max    999978.000000            2020-07-27 00:00:00     0.000000     0.000000   \n",
       "std    289028.563583                            NaN    27.372948    16.064363   \n",
       "\n",
       "          bedrooms    bathrooms  surface_total  surface_covered  \\\n",
       "count  7707.000000  7708.000000    7709.000000       7709.00000   \n",
       "mean      3.348575     3.077263     544.688805        278.93073   \n",
       "min       1.000000     1.000000      20.000000          1.00000   \n",
       "25%       3.000000     2.000000     200.000000        160.00000   \n",
       "50%       3.000000     3.000000     350.000000        220.00000   \n",
       "75%       4.000000     4.000000     758.000000        309.00000   \n",
       "max      36.000000    10.000000  169000.000000     169000.00000   \n",
       "std       0.912996     1.310170    2105.452666       2004.74938   \n",
       "\n",
       "               price  año_publicacion          mes          año  \\\n",
       "count    7709.000000      7709.000000  7709.000000  7709.000000   \n",
       "mean    48104.859385      2019.447269     6.994163  2019.447269   \n",
       "min       100.000000      2019.000000     1.000000  2019.000000   \n",
       "25%      9800.000000      2019.000000     5.000000  2019.000000   \n",
       "50%     37000.000000      2019.000000     7.000000  2019.000000   \n",
       "75%     65000.000000      2020.000000    10.000000  2020.000000   \n",
       "max    650000.000000      2020.000000    12.000000  2020.000000   \n",
       "std     51524.656790         0.497244     3.144850     0.497244   \n",
       "\n",
       "       Cotizacion_Promedio_Mensual  surface_covered_intervalo  \n",
       "count                  7709.000000                7709.000000  \n",
       "mean                     59.801939                 259.534311  \n",
       "min                      42.580000                   0.000000  \n",
       "25%                      56.463333                 150.000000  \n",
       "50%                      59.875550                 200.000000  \n",
       "75%                      65.763850                 300.000000  \n",
       "max                      71.479524              169000.000000  \n",
       "std                       7.325064                2005.232330  "
      ]
     },
     "execution_count": 99,
     "metadata": {},
     "output_type": "execute_result"
    }
   ],
   "source": [
    "# Para ver como quedo nuestro dataset voy a utilizar describe(), sentencia que me va a permitir indagar los valores numéricos de mi dataset\n",
    "\n",
    "df_filtrado_vf.describe()"
   ]
  },
  {
   "cell_type": "markdown",
   "id": "482dca29",
   "metadata": {},
   "source": [
    "## 3. ANÁLISIS EXPLOTATORIO DATASET FINAL"
   ]
  },
  {
   "cell_type": "markdown",
   "id": "142a5028",
   "metadata": {},
   "source": [
    "Vamos a realizar un análisis explotatorio a través de herramientas de visualización.\n",
    "Utilizaremos la bibilioteca plotly para generar datos interactivos que nos permitan dimensionar los datos que tenemos en nuestro dataset"
   ]
  },
  {
   "cell_type": "code",
   "execution_count": 104,
   "id": "4388c37a",
   "metadata": {},
   "outputs": [
    {
     "name": "stdout",
     "output_type": "stream",
     "text": [
      "Collecting plotly\n",
      "  Downloading plotly-6.3.1-py3-none-any.whl.metadata (8.5 kB)\n",
      "Collecting narwhals>=1.15.1 (from plotly)\n",
      "  Downloading narwhals-2.8.0-py3-none-any.whl.metadata (11 kB)\n",
      "Requirement already satisfied: packaging in c:\\users\\afontan1\\appdata\\local\\programs\\python\\python313\\lib\\site-packages (from plotly) (25.0)\n",
      "Downloading plotly-6.3.1-py3-none-any.whl (9.8 MB)\n",
      "   ---------------------------------------- 0.0/9.8 MB ? eta -:--:--\n",
      "   -------- ------------------------------- 2.1/9.8 MB 12.5 MB/s eta 0:00:01\n",
      "   -------------------------- ------------- 6.6/9.8 MB 17.1 MB/s eta 0:00:01\n",
      "   ---------------------------------------  9.7/9.8 MB 18.3 MB/s eta 0:00:01\n",
      "   ---------------------------------------- 9.8/9.8 MB 14.0 MB/s eta 0:00:00\n",
      "Downloading narwhals-2.8.0-py3-none-any.whl (415 kB)\n",
      "Installing collected packages: narwhals, plotly\n",
      "\n",
      "   ---------------------------------------- 0/2 [narwhals]\n",
      "   ---------------------------------------- 0/2 [narwhals]\n",
      "   ---------------------------------------- 0/2 [narwhals]\n",
      "   ---------------------------------------- 0/2 [narwhals]\n",
      "   ---------------------------------------- 0/2 [narwhals]\n",
      "   -------------------- ------------------- 1/2 [plotly]\n",
      "   -------------------- ------------------- 1/2 [plotly]\n",
      "   -------------------- ------------------- 1/2 [plotly]\n",
      "   -------------------- ------------------- 1/2 [plotly]\n",
      "   -------------------- ------------------- 1/2 [plotly]\n",
      "   -------------------- ------------------- 1/2 [plotly]\n",
      "   -------------------- ------------------- 1/2 [plotly]\n",
      "   -------------------- ------------------- 1/2 [plotly]\n",
      "   -------------------- ------------------- 1/2 [plotly]\n",
      "   -------------------- ------------------- 1/2 [plotly]\n",
      "   -------------------- ------------------- 1/2 [plotly]\n",
      "   -------------------- ------------------- 1/2 [plotly]\n",
      "   -------------------- ------------------- 1/2 [plotly]\n",
      "   -------------------- ------------------- 1/2 [plotly]\n",
      "   -------------------- ------------------- 1/2 [plotly]\n",
      "   -------------------- ------------------- 1/2 [plotly]\n",
      "   -------------------- ------------------- 1/2 [plotly]\n",
      "   -------------------- ------------------- 1/2 [plotly]\n",
      "   -------------------- ------------------- 1/2 [plotly]\n",
      "   -------------------- ------------------- 1/2 [plotly]\n",
      "   -------------------- ------------------- 1/2 [plotly]\n",
      "   -------------------- ------------------- 1/2 [plotly]\n",
      "   -------------------- ------------------- 1/2 [plotly]\n",
      "   -------------------- ------------------- 1/2 [plotly]\n",
      "   -------------------- ------------------- 1/2 [plotly]\n",
      "   -------------------- ------------------- 1/2 [plotly]\n",
      "   -------------------- ------------------- 1/2 [plotly]\n",
      "   -------------------- ------------------- 1/2 [plotly]\n",
      "   -------------------- ------------------- 1/2 [plotly]\n",
      "   -------------------- ------------------- 1/2 [plotly]\n",
      "   -------------------- ------------------- 1/2 [plotly]\n",
      "   -------------------- ------------------- 1/2 [plotly]\n",
      "   -------------------- ------------------- 1/2 [plotly]\n",
      "   -------------------- ------------------- 1/2 [plotly]\n",
      "   -------------------- ------------------- 1/2 [plotly]\n",
      "   -------------------- ------------------- 1/2 [plotly]\n",
      "   -------------------- ------------------- 1/2 [plotly]\n",
      "   -------------------- ------------------- 1/2 [plotly]\n",
      "   -------------------- ------------------- 1/2 [plotly]\n",
      "   -------------------- ------------------- 1/2 [plotly]\n",
      "   -------------------- ------------------- 1/2 [plotly]\n",
      "   -------------------- ------------------- 1/2 [plotly]\n",
      "   -------------------- ------------------- 1/2 [plotly]\n",
      "   -------------------- ------------------- 1/2 [plotly]\n",
      "   -------------------- ------------------- 1/2 [plotly]\n",
      "   -------------------- ------------------- 1/2 [plotly]\n",
      "   -------------------- ------------------- 1/2 [plotly]\n",
      "   -------------------- ------------------- 1/2 [plotly]\n",
      "   -------------------- ------------------- 1/2 [plotly]\n",
      "   -------------------- ------------------- 1/2 [plotly]\n",
      "   -------------------- ------------------- 1/2 [plotly]\n",
      "   -------------------- ------------------- 1/2 [plotly]\n",
      "   -------------------- ------------------- 1/2 [plotly]\n",
      "   -------------------- ------------------- 1/2 [plotly]\n",
      "   -------------------- ------------------- 1/2 [plotly]\n",
      "   -------------------- ------------------- 1/2 [plotly]\n",
      "   -------------------- ------------------- 1/2 [plotly]\n",
      "   -------------------- ------------------- 1/2 [plotly]\n",
      "   -------------------- ------------------- 1/2 [plotly]\n",
      "   -------------------- ------------------- 1/2 [plotly]\n",
      "   -------------------- ------------------- 1/2 [plotly]\n",
      "   -------------------- ------------------- 1/2 [plotly]\n",
      "   -------------------- ------------------- 1/2 [plotly]\n",
      "   -------------------- ------------------- 1/2 [plotly]\n",
      "   -------------------- ------------------- 1/2 [plotly]\n",
      "   -------------------- ------------------- 1/2 [plotly]\n",
      "   -------------------- ------------------- 1/2 [plotly]\n",
      "   -------------------- ------------------- 1/2 [plotly]\n",
      "   -------------------- ------------------- 1/2 [plotly]\n",
      "   -------------------- ------------------- 1/2 [plotly]\n",
      "   -------------------- ------------------- 1/2 [plotly]\n",
      "   -------------------- ------------------- 1/2 [plotly]\n",
      "   -------------------- ------------------- 1/2 [plotly]\n",
      "   -------------------- ------------------- 1/2 [plotly]\n",
      "   -------------------- ------------------- 1/2 [plotly]\n",
      "   -------------------- ------------------- 1/2 [plotly]\n",
      "   -------------------- ------------------- 1/2 [plotly]\n",
      "   -------------------- ------------------- 1/2 [plotly]\n",
      "   -------------------- ------------------- 1/2 [plotly]\n",
      "   -------------------- ------------------- 1/2 [plotly]\n",
      "   -------------------- ------------------- 1/2 [plotly]\n",
      "   -------------------- ------------------- 1/2 [plotly]\n",
      "   -------------------- ------------------- 1/2 [plotly]\n",
      "   -------------------- ------------------- 1/2 [plotly]\n",
      "   -------------------- ------------------- 1/2 [plotly]\n",
      "   -------------------- ------------------- 1/2 [plotly]\n",
      "   -------------------- ------------------- 1/2 [plotly]\n",
      "   -------------------- ------------------- 1/2 [plotly]\n",
      "   -------------------- ------------------- 1/2 [plotly]\n",
      "   -------------------- ------------------- 1/2 [plotly]\n",
      "   -------------------- ------------------- 1/2 [plotly]\n",
      "   -------------------- ------------------- 1/2 [plotly]\n",
      "   ---------------------------------------- 2/2 [plotly]\n",
      "\n",
      "Successfully installed narwhals-2.8.0 plotly-6.3.1\n"
     ]
    },
    {
     "name": "stderr",
     "output_type": "stream",
     "text": [
      "\n",
      "[notice] A new release of pip is available: 25.1.1 -> 25.2\n",
      "[notice] To update, run: python.exe -m pip install --upgrade pip\n"
     ]
    }
   ],
   "source": [
    "# instalo plotly para poder utilizarlo\n",
    "!pip install plotly"
   ]
  },
  {
   "cell_type": "code",
   "execution_count": 114,
   "id": "aeea9241",
   "metadata": {},
   "outputs": [],
   "source": [
    "# Importo plotly\n",
    "\n",
    "import plotly.express as px"
   ]
  },
  {
   "cell_type": "code",
   "execution_count": null,
   "id": "de80c700",
   "metadata": {},
   "outputs": [],
   "source": [
    "# Agrupar por barrio y contar cantidad de propiedades\n",
    "conteo = df_filtrado_vf['l3'].value_counts().reset_index()\n",
    "conteo.columns = ['Barrio', 'Cantidad']\n",
    "\n",
    "# Crear gráfico interactivo\n",
    "fig = px.bar(conteo, x='Barrio', y='Cantidad', title='Cantidad de propiedades por barrio')\n",
    "\n"
   ]
  },
  {
   "cell_type": "code",
   "execution_count": 120,
   "id": "9facabd0",
   "metadata": {},
   "outputs": [],
   "source": [
    "#Como se me genera un error para mostrarlo en la notebook de Jupyter le indico que me lo muestre en el navegador cuando lo ejecuto\n",
    "import plotly.io as pio\n",
    "pio.renderers.default = 'browser'\n",
    "\n",
    "fig.show()\n"
   ]
  },
  {
   "cell_type": "code",
   "execution_count": 130,
   "id": "a7a33f71",
   "metadata": {},
   "outputs": [],
   "source": [
    "# Voy a realizar un gráfico para calcular el precio por m² por barrio\n",
    "\n",
    "#Calculo el precio por m2\n",
    "df_filtrado_vf['precio_m2'] = df_filtrado_vf['price'] / df_filtrado_vf['surface_total']\n",
    "\n",
    "# Agrupar por barrio y calcular promedio\n",
    "promedio_m2 = df_filtrado_vf.groupby('l3')['precio_m2'].mean().reset_index()\n",
    "promedio_m2.columns = ['Barrio', 'Precio promedio m²']\n",
    "\n",
    "# Ordenar de mayor a menor\n",
    "promedio_m2 = promedio_m2.sort_values(by='Precio promedio m²', ascending=False)\n",
    "\n",
    "# Crear gráfico con etiquetas\n",
    "fig2 = px.bar(\n",
    "    promedio_m2.round(2),\n",
    "    x='Barrio',\n",
    "    y='Precio promedio m²',\n",
    "    text='Precio promedio m²',\n",
    "    title='Precio promedio por m² por barrio (ordenado de mayor a menor)'\n",
    ")\n",
    "fig2.update_traces(textposition='outside')\n",
    "fig2.show()\n"
   ]
  },
  {
   "cell_type": "markdown",
   "id": "6fc83813",
   "metadata": {},
   "source": [
    "En las visualizaciones observo que me quedaron propiedades con el l3 \"0\". Esto es producto de un error de decisión respecto al tratamiento de nulos. \n",
    "En este caso decidi imputarlo con un valor constante, cuando este dato es fundamental para el análisis que queremos efectuar. \n",
    "Sin contar con la geolocalización del l3 no voy a poder identificar a que barrio pertenece la propiedad por lo que la decisión correcta debería haber sido eliminar las filas.\n",
    "Vamos a efectuarlo en esta instancia y vamos a volver a correr los gráficos efectuados previamente. "
   ]
  },
  {
   "cell_type": "code",
   "execution_count": 131,
   "id": "1bbf0b25",
   "metadata": {},
   "outputs": [],
   "source": [
    "df_filtrado_vf2 = df_filtrado_vf[df_filtrado_vf['l3'] != 0]\n"
   ]
  },
  {
   "cell_type": "code",
   "execution_count": 135,
   "id": "07da8db9",
   "metadata": {},
   "outputs": [
    {
     "data": {
      "text/plain": [
       "(7637, 23)"
      ]
     },
     "execution_count": 135,
     "metadata": {},
     "output_type": "execute_result"
    }
   ],
   "source": [
    "df_filtrado_vf2.shape"
   ]
  },
  {
   "cell_type": "code",
   "execution_count": 137,
   "id": "317b6ae2",
   "metadata": {},
   "outputs": [
    {
     "data": {
      "text/html": [
       "<div>\n",
       "<style scoped>\n",
       "    .dataframe tbody tr th:only-of-type {\n",
       "        vertical-align: middle;\n",
       "    }\n",
       "\n",
       "    .dataframe tbody tr th {\n",
       "        vertical-align: top;\n",
       "    }\n",
       "\n",
       "    .dataframe thead th {\n",
       "        text-align: right;\n",
       "    }\n",
       "</style>\n",
       "<table border=\"1\" class=\"dataframe\">\n",
       "  <thead>\n",
       "    <tr style=\"text-align: right;\">\n",
       "      <th></th>\n",
       "      <th>id</th>\n",
       "      <th>start_date</th>\n",
       "      <th>lat</th>\n",
       "      <th>lon</th>\n",
       "      <th>l1</th>\n",
       "      <th>l2</th>\n",
       "      <th>l3</th>\n",
       "      <th>l4</th>\n",
       "      <th>bedrooms</th>\n",
       "      <th>bathrooms</th>\n",
       "      <th>surface_total</th>\n",
       "      <th>surface_covered</th>\n",
       "      <th>currency</th>\n",
       "      <th>property_type</th>\n",
       "      <th>operation_type</th>\n",
       "      <th>price</th>\n",
       "      <th>año_publicacion</th>\n",
       "      <th>mes</th>\n",
       "      <th>año</th>\n",
       "      <th>mes&amp;año</th>\n",
       "      <th>Cotizacion_Promedio_Mensual</th>\n",
       "      <th>surface_covered_intervalo</th>\n",
       "      <th>precio_m2</th>\n",
       "    </tr>\n",
       "  </thead>\n",
       "  <tbody>\n",
       "    <tr>\n",
       "      <th>5921</th>\n",
       "      <td>271</td>\n",
       "      <td>2019-07-07</td>\n",
       "      <td>-58.649171</td>\n",
       "      <td>-34.397301</td>\n",
       "      <td>Argentina</td>\n",
       "      <td>Bs.As. G.B.A. Zona Norte</td>\n",
       "      <td>Tigre</td>\n",
       "      <td>Nordelta</td>\n",
       "      <td>1.0</td>\n",
       "      <td>2.0</td>\n",
       "      <td>72.0</td>\n",
       "      <td>59.0</td>\n",
       "      <td>ARS</td>\n",
       "      <td>Casa</td>\n",
       "      <td>Alquiler</td>\n",
       "      <td>28000.0</td>\n",
       "      <td>2019</td>\n",
       "      <td>7</td>\n",
       "      <td>2019</td>\n",
       "      <td>7&amp;2019</td>\n",
       "      <td>42.58</td>\n",
       "      <td>50.0</td>\n",
       "      <td>388.888889</td>\n",
       "    </tr>\n",
       "  </tbody>\n",
       "</table>\n",
       "</div>"
      ],
      "text/plain": [
       "       id start_date        lat        lon         l1  \\\n",
       "5921  271 2019-07-07 -58.649171 -34.397301  Argentina   \n",
       "\n",
       "                            l2     l3        l4  bedrooms  bathrooms  \\\n",
       "5921  Bs.As. G.B.A. Zona Norte  Tigre  Nordelta       1.0        2.0   \n",
       "\n",
       "      surface_total  surface_covered currency property_type operation_type  \\\n",
       "5921           72.0             59.0      ARS          Casa       Alquiler   \n",
       "\n",
       "        price  año_publicacion  mes   año mes&año  \\\n",
       "5921  28000.0             2019    7  2019  7&2019   \n",
       "\n",
       "      Cotizacion_Promedio_Mensual  surface_covered_intervalo   precio_m2  \n",
       "5921                        42.58                       50.0  388.888889  "
      ]
     },
     "execution_count": 137,
     "metadata": {},
     "output_type": "execute_result"
    }
   ],
   "source": [
    "df_filtrado_vf2.head(1)"
   ]
  },
  {
   "cell_type": "markdown",
   "id": "b79088b3",
   "metadata": {},
   "source": [
    "Cuando realizón un análisis final de mi dataset veo que me quedaron dos columnas con la misma información: \"año publicación\" y \"año\". Voy a eliminar una del nuevo dataset generado"
   ]
  },
  {
   "cell_type": "code",
   "execution_count": 139,
   "id": "828d4900",
   "metadata": {},
   "outputs": [],
   "source": [
    "df_filtrado_vf2=df_filtrado_vf2.drop(['año_publicacion'],axis=1)"
   ]
  },
  {
   "cell_type": "code",
   "execution_count": 141,
   "id": "1d383081",
   "metadata": {},
   "outputs": [],
   "source": [
    "#Vuelvo a realizar los gráficos realizados anteriormente con el nuevo df\n",
    "\n",
    "# Agrupar por barrio y contar cantidad de propiedades\n",
    "conteo = df_filtrado_vf2['l3'].value_counts().reset_index()\n",
    "conteo.columns = ['Barrio', 'Cantidad']\n",
    "\n",
    "# Crear gráfico interactivo\n",
    "fig = px.bar(conteo, x='Barrio', y='Cantidad', title='Cantidad de propiedades por barrio')\n",
    "\n",
    "fig.show()"
   ]
  },
  {
   "cell_type": "code",
   "execution_count": 143,
   "id": "5c904644",
   "metadata": {},
   "outputs": [],
   "source": [
    "# Valor por m2 por barrio con nuevo df\n",
    "\n",
    "#Calculo el precio por m2\n",
    "df_filtrado_vf2['precio_m2'] = df_filtrado_vf2['price'] / df_filtrado_vf2['surface_total']\n",
    "\n",
    "# Agrupar por barrio y calcular promedio\n",
    "promedio_m2 = df_filtrado_vf2.groupby('l3')['precio_m2'].mean().reset_index()\n",
    "promedio_m2.columns = ['Barrio', 'Precio promedio m²']\n",
    "\n",
    "# Ordenar de mayor a menor\n",
    "promedio_m2 = promedio_m2.sort_values(by='Precio promedio m²', ascending=False)\n",
    "\n",
    "# Crear gráfico con etiquetas\n",
    "fig2 = px.bar(\n",
    "    promedio_m2.round(2),\n",
    "    x='Barrio',\n",
    "    y='Precio promedio m²',\n",
    "    text='Precio promedio m²',\n",
    "    title='Precio promedio por m² por barrio (ordenado de mayor a menor)'\n",
    ")\n",
    "fig2.update_traces(textposition='outside')\n",
    "fig2.show()\n"
   ]
  },
  {
   "cell_type": "markdown",
   "id": "26605e31",
   "metadata": {},
   "source": [
    "Con los gráficos efectuados comenzamos a contar con insights a partir de visualizaciones que nos permitieron explorar los datos y comenzar a efectuar un análisis que va a ser vital para la confirmación de la hipotésis 2 donde buscaremos realizar una comparativa entre los precios de alquiler vs la cuota de un crédito hipotecario en base a los valores de venta de las propiedades analizadas en el curso de data science I. "
   ]
  }
 ],
 "metadata": {
  "kernelspec": {
   "display_name": "Python 3",
   "language": "python",
   "name": "python3"
  },
  "language_info": {
   "codemirror_mode": {
    "name": "ipython",
    "version": 3
   },
   "file_extension": ".py",
   "mimetype": "text/x-python",
   "name": "python",
   "nbconvert_exporter": "python",
   "pygments_lexer": "ipython3",
   "version": "3.13.5"
  }
 },
 "nbformat": 4,
 "nbformat_minor": 5
}
